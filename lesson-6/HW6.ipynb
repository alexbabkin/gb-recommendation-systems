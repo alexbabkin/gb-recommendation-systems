{
 "metadata": {
  "orig_nbformat": 2,
  "kernelspec": {
   "name": "python3",
   "display_name": "Python 3",
   "language": "python"
  }
 },
 "nbformat": 4,
 "nbformat_minor": 2,
 "cells": [
  {
   "cell_type": "code",
   "execution_count": 2,
   "metadata": {},
   "outputs": [],
   "source": [
    "import pandas as pd\n",
    "import numpy as np\n",
    "import matplotlib.pyplot as plt\n",
    "%matplotlib inline\n",
    "\n",
    "# Для работы с матрицами\n",
    "from scipy.sparse import csr_matrix\n",
    "\n",
    "# Матричная факторизация\n",
    "from implicit import als\n",
    "\n",
    "# Модель второго уровня\n",
    "from lightgbm import LGBMClassifier\n",
    "\n",
    "import os, sys\n",
    "module_path = os.path.abspath(os.path.join(os.pardir))\n",
    "if module_path not in sys.path:\n",
    "    sys.path.append(module_path)\n",
    "\n",
    "# Написанные нами функции\n",
    "from webinar6.metrics import precision_at_k, recall_at_k\n",
    "from webinar6.utils import prefilter_items\n",
    "from webinar6.recommenders import MainRecommender"
   ]
  },
  {
   "source": [
    "## Read data"
   ],
   "cell_type": "markdown",
   "metadata": {}
  },
  {
   "cell_type": "code",
   "execution_count": 3,
   "metadata": {},
   "outputs": [],
   "source": [
    "data = pd.read_csv('./retail_train.csv')\n",
    "item_features = pd.read_csv('./product.csv')\n",
    "user_features = pd.read_csv('./hh_demographic.csv')"
   ]
  },
  {
   "source": [
    "# Process features dataset"
   ],
   "cell_type": "markdown",
   "metadata": {}
  },
  {
   "cell_type": "code",
   "execution_count": 4,
   "metadata": {},
   "outputs": [],
   "source": [
    "ITEM_COL = 'item_id'\n",
    "USER_COL = 'user_id'"
   ]
  },
  {
   "cell_type": "code",
   "execution_count": 5,
   "metadata": {},
   "outputs": [],
   "source": [
    "# column processing\n",
    "item_features.columns = [col.lower() for col in item_features.columns]\n",
    "user_features.columns = [col.lower() for col in user_features.columns]\n",
    "\n",
    "item_features.rename(columns={'product_id': ITEM_COL}, inplace=True)\n",
    "user_features.rename(columns={'household_key': USER_COL }, inplace=True)"
   ]
  },
  {
   "source": [
    "# Split dataset for train, eval, test"
   ],
   "cell_type": "markdown",
   "metadata": {}
  },
  {
   "cell_type": "code",
   "execution_count": 6,
   "metadata": {},
   "outputs": [],
   "source": [
    "# Важна схема обучения и валидации!\n",
    "# -- давние покупки -- | -- 6 недель -- | -- 3 недель -- \n",
    "# подобрать размер 2-ого датасета (6 недель) --> learning curve (зависимость метрики recall@k от размера датасета)\n",
    "\n",
    "\n",
    "VAL_MATCHER_WEEKS = 6\n",
    "VAL_RANKER_WEEKS = 3"
   ]
  },
  {
   "cell_type": "code",
   "execution_count": 7,
   "metadata": {},
   "outputs": [],
   "source": [
    "# берем данные для тренировки matching модели\n",
    "data_train_matcher = data[data['week_no'] < data['week_no'].max() - (VAL_MATCHER_WEEKS + VAL_RANKER_WEEKS)]\n",
    "\n",
    "# берем данные для валидации matching модели\n",
    "data_val_matcher = data[(data['week_no'] >= data['week_no'].max() - (VAL_MATCHER_WEEKS + VAL_RANKER_WEEKS)) &\n",
    "                      (data['week_no'] < data['week_no'].max() - (VAL_RANKER_WEEKS))]\n",
    "\n",
    "\n",
    "# берем данные для тренировки ranking модели\n",
    "data_train_ranker = data_val_matcher.copy()  # Для наглядности. Далее мы добавим изменения, и они будут отличаться\n",
    "\n",
    "# берем данные для теста ranking, matching модели\n",
    "data_val_ranker = data[data['week_no'] >= data['week_no'].max() - VAL_RANKER_WEEKS]"
   ]
  },
  {
   "cell_type": "code",
   "execution_count": 8,
   "metadata": {},
   "outputs": [],
   "source": [
    "def print_stats_data(df_data, name_df):\n",
    "    print(name_df)\n",
    "    print(f\"Shape: {df_data.shape} Users: {df_data[USER_COL].nunique()} Items: {df_data[ITEM_COL].nunique()}\")"
   ]
  },
  {
   "cell_type": "code",
   "execution_count": 10,
   "metadata": {},
   "outputs": [
    {
     "output_type": "stream",
     "name": "stdout",
     "text": [
      "train_matcher\nShape: (2108779, 12) Users: 2498 Items: 83685\nval_matcher\nShape: (169711, 12) Users: 2154 Items: 27649\ntrain_ranker\nShape: (169711, 12) Users: 2154 Items: 27649\nval_ranker\nShape: (118314, 12) Users: 2042 Items: 24329\n"
     ]
    }
   ],
   "source": [
    "print_stats_data(data_train_matcher,'train_matcher')\n",
    "print_stats_data(data_val_matcher,'val_matcher')\n",
    "print_stats_data(data_train_ranker,'train_ranker')\n",
    "print_stats_data(data_val_ranker,'val_ranker')\n",
    "# видим разброс по пользователям и товарам"
   ]
  },
  {
   "cell_type": "code",
   "execution_count": 11,
   "metadata": {},
   "outputs": [
    {
     "output_type": "execute_result",
     "data": {
      "text/plain": [
       "   user_id    basket_id  day  item_id  quantity  sales_value  store_id  \\\n",
       "0     2375  26984851472    1  1004906         1         1.39       364   \n",
       "1     2375  26984851472    1  1033142         1         0.82       364   \n",
       "2     2375  26984851472    1  1036325         1         0.99       364   \n",
       "3     2375  26984851472    1  1082185         1         1.21       364   \n",
       "4     2375  26984851472    1  8160430         1         1.50       364   \n",
       "\n",
       "   retail_disc  trans_time  week_no  coupon_disc  coupon_match_disc  \n",
       "0        -0.60        1631        1          0.0                0.0  \n",
       "1         0.00        1631        1          0.0                0.0  \n",
       "2        -0.30        1631        1          0.0                0.0  \n",
       "3         0.00        1631        1          0.0                0.0  \n",
       "4        -0.39        1631        1          0.0                0.0  "
      ],
      "text/html": "<div>\n<style scoped>\n    .dataframe tbody tr th:only-of-type {\n        vertical-align: middle;\n    }\n\n    .dataframe tbody tr th {\n        vertical-align: top;\n    }\n\n    .dataframe thead th {\n        text-align: right;\n    }\n</style>\n<table border=\"1\" class=\"dataframe\">\n  <thead>\n    <tr style=\"text-align: right;\">\n      <th></th>\n      <th>user_id</th>\n      <th>basket_id</th>\n      <th>day</th>\n      <th>item_id</th>\n      <th>quantity</th>\n      <th>sales_value</th>\n      <th>store_id</th>\n      <th>retail_disc</th>\n      <th>trans_time</th>\n      <th>week_no</th>\n      <th>coupon_disc</th>\n      <th>coupon_match_disc</th>\n    </tr>\n  </thead>\n  <tbody>\n    <tr>\n      <th>0</th>\n      <td>2375</td>\n      <td>26984851472</td>\n      <td>1</td>\n      <td>1004906</td>\n      <td>1</td>\n      <td>1.39</td>\n      <td>364</td>\n      <td>-0.60</td>\n      <td>1631</td>\n      <td>1</td>\n      <td>0.0</td>\n      <td>0.0</td>\n    </tr>\n    <tr>\n      <th>1</th>\n      <td>2375</td>\n      <td>26984851472</td>\n      <td>1</td>\n      <td>1033142</td>\n      <td>1</td>\n      <td>0.82</td>\n      <td>364</td>\n      <td>0.00</td>\n      <td>1631</td>\n      <td>1</td>\n      <td>0.0</td>\n      <td>0.0</td>\n    </tr>\n    <tr>\n      <th>2</th>\n      <td>2375</td>\n      <td>26984851472</td>\n      <td>1</td>\n      <td>1036325</td>\n      <td>1</td>\n      <td>0.99</td>\n      <td>364</td>\n      <td>-0.30</td>\n      <td>1631</td>\n      <td>1</td>\n      <td>0.0</td>\n      <td>0.0</td>\n    </tr>\n    <tr>\n      <th>3</th>\n      <td>2375</td>\n      <td>26984851472</td>\n      <td>1</td>\n      <td>1082185</td>\n      <td>1</td>\n      <td>1.21</td>\n      <td>364</td>\n      <td>0.00</td>\n      <td>1631</td>\n      <td>1</td>\n      <td>0.0</td>\n      <td>0.0</td>\n    </tr>\n    <tr>\n      <th>4</th>\n      <td>2375</td>\n      <td>26984851472</td>\n      <td>1</td>\n      <td>8160430</td>\n      <td>1</td>\n      <td>1.50</td>\n      <td>364</td>\n      <td>-0.39</td>\n      <td>1631</td>\n      <td>1</td>\n      <td>0.0</td>\n      <td>0.0</td>\n    </tr>\n  </tbody>\n</table>\n</div>"
     },
     "metadata": {},
     "execution_count": 11
    }
   ],
   "source": [
    "data_train_matcher.head()"
   ]
  },
  {
   "source": [
    "# Prefilter items"
   ],
   "cell_type": "markdown",
   "metadata": {}
  },
  {
   "cell_type": "code",
   "execution_count": 12,
   "metadata": {},
   "outputs": [
    {
     "output_type": "stream",
     "name": "stderr",
     "text": [
      "/home/alex/resommendation-systems/webinar6/utils.py:20: SettingWithCopyWarning: \n",
      "A value is trying to be set on a copy of a slice from a DataFrame.\n",
      "Try using .loc[row_indexer,col_indexer] = value instead\n",
      "\n",
      "See the caveats in the documentation: https://pandas.pydata.org/pandas-docs/stable/user_guide/indexing.html#returning-a-view-versus-a-copy\n",
      "  data['price'] = data['sales_value'] / (np.maximum(data['quantity'], 1))\n",
      "Decreased # items from 83685 to 5001\n"
     ]
    }
   ],
   "source": [
    "n_items_before = data_train_matcher['item_id'].nunique()\n",
    "\n",
    "data_train_matcher = prefilter_items(data_train_matcher, item_features=item_features, take_n_popular=5000)\n",
    "\n",
    "n_items_after = data_train_matcher['item_id'].nunique()\n",
    "print('Decreased # items from {} to {}'.format(n_items_before, n_items_after))"
   ]
  },
  {
   "source": [
    "# Make cold-start to warm-start"
   ],
   "cell_type": "markdown",
   "metadata": {}
  },
  {
   "cell_type": "code",
   "execution_count": 13,
   "metadata": {},
   "outputs": [
    {
     "output_type": "stream",
     "name": "stdout",
     "text": [
      "train_matcher\nShape: (784420, 13) Users: 1915 Items: 4999\nval_matcher\nShape: (163261, 12) Users: 1915 Items: 27118\ntrain_ranker\nShape: (163261, 12) Users: 1915 Items: 27118\nval_ranker\nShape: (115989, 12) Users: 1915 Items: 24042\n"
     ]
    }
   ],
   "source": [
    "# ищем общих пользователей\n",
    "common_users = list(set(data_train_matcher.user_id.values)&(set(data_val_matcher.user_id.values))&set(data_val_ranker.user_id.values))\n",
    "\n",
    "data_train_matcher = data_train_matcher[data_train_matcher.user_id.isin(common_users)]\n",
    "data_val_matcher = data_val_matcher[data_val_matcher.user_id.isin(common_users)]\n",
    "data_train_ranker = data_train_ranker[data_train_ranker.user_id.isin(common_users)]\n",
    "data_val_ranker = data_val_ranker[data_val_ranker.user_id.isin(common_users)]\n",
    "\n",
    "print_stats_data(data_train_matcher,'train_matcher')\n",
    "print_stats_data(data_val_matcher,'val_matcher')\n",
    "print_stats_data(data_train_ranker,'train_ranker')\n",
    "print_stats_data(data_val_ranker,'val_ranker')"
   ]
  },
  {
   "source": [
    "# Теперь warm-start по пользователям"
   ],
   "cell_type": "code",
   "metadata": {},
   "execution_count": 14,
   "outputs": []
  },
  {
   "source": [
    "# Init/train recommender"
   ],
   "cell_type": "markdown",
   "metadata": {}
  },
  {
   "cell_type": "code",
   "execution_count": 15,
   "metadata": {},
   "outputs": [
    {
     "output_type": "stream",
     "name": "stderr",
     "text": [
      "WARNING:root:OpenBLAS detected. Its highly recommend to set the environment variable 'export OPENBLAS_NUM_THREADS=1' to disable its internal multithreading\n"
     ]
    },
    {
     "output_type": "display_data",
     "data": {
      "text/plain": "  0%|          | 0/15 [00:00<?, ?it/s]",
      "application/vnd.jupyter.widget-view+json": {
       "version_major": 2,
       "version_minor": 0,
       "model_id": "6134464a573c401389dea897a90e5dc7"
      }
     },
     "metadata": {}
    },
    {
     "output_type": "display_data",
     "data": {
      "text/plain": "  0%|          | 0/4999 [00:00<?, ?it/s]",
      "application/vnd.jupyter.widget-view+json": {
       "version_major": 2,
       "version_minor": 0,
       "model_id": "a27e57cb15a24fe2b4512925c8574fe9"
      }
     },
     "metadata": {}
    }
   ],
   "source": [
    "recommender = MainRecommender(data_train_matcher)"
   ]
  },
  {
   "cell_type": "code",
   "execution_count": 16,
   "metadata": {},
   "outputs": [],
   "source": [
    "# Берем тестового юзера 2375"
   ]
  },
  {
   "cell_type": "code",
   "execution_count": 17,
   "metadata": {},
   "outputs": [
    {
     "output_type": "execute_result",
     "data": {
      "text/plain": [
       "[899624, 1044078, 1106523, 871756, 5569230]"
      ]
     },
     "metadata": {},
     "execution_count": 17
    }
   ],
   "source": [
    "recommender.get_als_recommendations(2375, N=5)"
   ]
  },
  {
   "cell_type": "code",
   "execution_count": 18,
   "metadata": {},
   "outputs": [
    {
     "output_type": "execute_result",
     "data": {
      "text/plain": [
       "[948640, 918046, 847962, 907099, 873980]"
      ]
     },
     "metadata": {},
     "execution_count": 18
    }
   ],
   "source": [
    "recommender.get_own_recommendations(2375, N=5)"
   ]
  },
  {
   "cell_type": "code",
   "execution_count": 19,
   "metadata": {},
   "outputs": [
    {
     "output_type": "execute_result",
     "data": {
      "text/plain": [
       "[1046545, 1044078, 823990, 10355376, 15778319]"
      ]
     },
     "metadata": {},
     "execution_count": 19
    }
   ],
   "source": [
    "recommender.get_similar_items_recommendation(2375, N=5)"
   ]
  },
  {
   "cell_type": "code",
   "execution_count": 20,
   "metadata": {},
   "outputs": [
    {
     "output_type": "execute_result",
     "data": {
      "text/plain": [
       "[825317, 977559, 835351, 935578, 8090542]"
      ]
     },
     "metadata": {},
     "execution_count": 20
    }
   ],
   "source": [
    "recommender.get_similar_users_recommendation(2375, N=5)"
   ]
  },
  {
   "source": [
    "**Задание 1.**\n",
    "\n",
    "A) Попробуйте различные варианты генерации кандидатов. Какие из них дают наибольший recall@k ?\n",
    "- Пока пробуем отобрать 50 кандидатов (k=50)\n",
    "- Качество измеряем на data_val_matcher: следующие 6 недель после трейна\n",
    "\n",
    "Дают ли own recommendtions + top-popular лучший recall?  \n",
    "\n",
    "B)* Как зависит recall@k от k? Постройте для одной схемы генерации кандидатов эту зависимость для k = {20, 50, 100, 200, 500}  \n",
    "C)* Исходя из прошлого вопроса, как вы думаете, какое значение k является наиболее разумным?"
   ],
   "cell_type": "markdown",
   "metadata": {}
  },
  {
   "cell_type": "code",
   "execution_count": 22,
   "metadata": {},
   "outputs": [
    {
     "output_type": "execute_result",
     "data": {
      "text/plain": [
       "   user_id                                             actual\n",
       "0        1  [853529, 865456, 867607, 872137, 874905, 87524...\n",
       "1        6  [1024306, 1102949, 6548453, 835394, 940804, 96...\n",
       "2        7  [836281, 843306, 845294, 914190, 920456, 93886...\n",
       "3        8  [868075, 886787, 945611, 1005186, 1008787, 101...\n",
       "4        9  [883616, 1029743, 1039126, 1051323, 1082772, 1..."
      ],
      "text/html": "<div>\n<style scoped>\n    .dataframe tbody tr th:only-of-type {\n        vertical-align: middle;\n    }\n\n    .dataframe tbody tr th {\n        vertical-align: top;\n    }\n\n    .dataframe thead th {\n        text-align: right;\n    }\n</style>\n<table border=\"1\" class=\"dataframe\">\n  <thead>\n    <tr style=\"text-align: right;\">\n      <th></th>\n      <th>user_id</th>\n      <th>actual</th>\n    </tr>\n  </thead>\n  <tbody>\n    <tr>\n      <th>0</th>\n      <td>1</td>\n      <td>[853529, 865456, 867607, 872137, 874905, 87524...</td>\n    </tr>\n    <tr>\n      <th>1</th>\n      <td>6</td>\n      <td>[1024306, 1102949, 6548453, 835394, 940804, 96...</td>\n    </tr>\n    <tr>\n      <th>2</th>\n      <td>7</td>\n      <td>[836281, 843306, 845294, 914190, 920456, 93886...</td>\n    </tr>\n    <tr>\n      <th>3</th>\n      <td>8</td>\n      <td>[868075, 886787, 945611, 1005186, 1008787, 101...</td>\n    </tr>\n    <tr>\n      <th>4</th>\n      <td>9</td>\n      <td>[883616, 1029743, 1039126, 1051323, 1082772, 1...</td>\n    </tr>\n  </tbody>\n</table>\n</div>"
     },
     "metadata": {},
     "execution_count": 22
    }
   ],
   "source": [
    "result_match = data_val_matcher.groupby('user_id')['item_id'].unique().reset_index()\n",
    "result_match.columns=['user_id', 'actual']\n",
    "result_match.head()"
   ]
  },
  {
   "cell_type": "code",
   "execution_count": 24,
   "metadata": {},
   "outputs": [
    {
     "output_type": "execute_result",
     "data": {
      "text/plain": [
       "   user_id                                            item_id\n",
       "0        1  [853529, 865456, 867607, 872137, 874905, 87524...\n",
       "1        6  [1024306, 1102949, 6548453, 835394, 940804, 96...\n",
       "2        7  [836281, 843306, 845294, 914190, 920456, 93886...\n",
       "3        8  [868075, 886787, 945611, 1005186, 1008787, 101...\n",
       "4        9  [883616, 1029743, 1039126, 1051323, 1082772, 1..."
      ],
      "text/html": "<div>\n<style scoped>\n    .dataframe tbody tr th:only-of-type {\n        vertical-align: middle;\n    }\n\n    .dataframe tbody tr th {\n        vertical-align: top;\n    }\n\n    .dataframe thead th {\n        text-align: right;\n    }\n</style>\n<table border=\"1\" class=\"dataframe\">\n  <thead>\n    <tr style=\"text-align: right;\">\n      <th></th>\n      <th>user_id</th>\n      <th>item_id</th>\n    </tr>\n  </thead>\n  <tbody>\n    <tr>\n      <th>0</th>\n      <td>1</td>\n      <td>[853529, 865456, 867607, 872137, 874905, 87524...</td>\n    </tr>\n    <tr>\n      <th>1</th>\n      <td>6</td>\n      <td>[1024306, 1102949, 6548453, 835394, 940804, 96...</td>\n    </tr>\n    <tr>\n      <th>2</th>\n      <td>7</td>\n      <td>[836281, 843306, 845294, 914190, 920456, 93886...</td>\n    </tr>\n    <tr>\n      <th>3</th>\n      <td>8</td>\n      <td>[868075, 886787, 945611, 1005186, 1008787, 101...</td>\n    </tr>\n    <tr>\n      <th>4</th>\n      <td>9</td>\n      <td>[883616, 1029743, 1039126, 1051323, 1082772, 1...</td>\n    </tr>\n  </tbody>\n</table>\n</div>"
     },
     "metadata": {},
     "execution_count": 24
    }
   ],
   "source": [
    "data_val_matcher.groupby('user_id')['item_id'].unique().reset_index().head()"
   ]
  },
  {
   "cell_type": "code",
   "execution_count": 25,
   "metadata": {},
   "outputs": [],
   "source": [
    "K = 50"
   ]
  },
  {
   "cell_type": "code",
   "execution_count": 27,
   "metadata": {},
   "outputs": [],
   "source": [
    "new_users = np.setdiff1d(result_match['user_id'], data_train_matcher['user_id']).tolist()\n",
    "result_match = result_match[~result_match['user_id'].isin(new_users)]"
   ]
  },
  {
   "cell_type": "code",
   "execution_count": 28,
   "metadata": {},
   "outputs": [
    {
     "output_type": "execute_result",
     "data": {
      "text/plain": [
       "0.06168420135329065"
      ]
     },
     "metadata": {},
     "execution_count": 28
    }
   ],
   "source": [
    "# Own recommendations\n",
    "result_match['own_recommendations'] = result_match['user_id'].apply(lambda X: recommender.get_own_recommendations(X, N=K))\n",
    "result_match.apply(lambda vector: recall_at_k(vector['own_recommendations'], vector['actual'], K), axis=1).mean()"
   ]
  },
  {
   "cell_type": "code",
   "execution_count": 29,
   "metadata": {},
   "outputs": [
    {
     "output_type": "execute_result",
     "data": {
      "text/plain": [
       "0.04780930630155854"
      ]
     },
     "metadata": {},
     "execution_count": 29
    }
   ],
   "source": [
    "# als\n",
    "result_match['own_recommendations'] = result_match['user_id'].apply(lambda X: recommender.get_als_recommendations(X, N=K))\n",
    "result_match.apply(lambda vector: recall_at_k(vector['own_recommendations'], vector['actual'], K), axis=1).mean()"
   ]
  },
  {
   "cell_type": "code",
   "execution_count": 30,
   "metadata": {},
   "outputs": [
    {
     "output_type": "execute_result",
     "data": {
      "text/plain": [
       "0.030898440528564705"
      ]
     },
     "metadata": {},
     "execution_count": 30
    }
   ],
   "source": [
    "# similar items\n",
    "result_match['own_recommendations'] = result_match['user_id'].apply(lambda X: recommender.get_similar_items_recommendation(X, N=K))\n",
    "result_match.apply(lambda vector: recall_at_k(vector['own_recommendations'], vector['actual'], K), axis=1).mean()"
   ]
  },
  {
   "source": [
    "### Наилучший результат дает Own recommendations (top popular)"
   ],
   "cell_type": "markdown",
   "metadata": {}
  },
  {
   "cell_type": "code",
   "execution_count": 33,
   "metadata": {},
   "outputs": [],
   "source": [
    "n = [20, 50, 100, 200, 500]\n",
    "rec_list = []\n",
    "\n",
    "for i in n:\n",
    "    result_match['own_recommendations'] = result_match['user_id'].apply(lambda X: recommender.get_own_recommendations(X, N=i))\n",
    "    rec_list.append(result_match.apply(lambda vector: recall_at_k(vector['own_recommendations'], vector['actual'], i), axis=1).mean())"
   ]
  },
  {
   "cell_type": "code",
   "execution_count": 34,
   "metadata": {},
   "outputs": [
    {
     "output_type": "display_data",
     "data": {
      "text/plain": "<Figure size 864x504 with 1 Axes>",
      "image/svg+xml": "<?xml version=\"1.0\" encoding=\"utf-8\" standalone=\"no\"?>\n<!DOCTYPE svg PUBLIC \"-//W3C//DTD SVG 1.1//EN\"\n  \"http://www.w3.org/Graphics/SVG/1.1/DTD/svg11.dtd\">\n<!-- Created with matplotlib (https://matplotlib.org/) -->\n<svg height=\"425.27625pt\" version=\"1.1\" viewBox=\"0 0 726.94375 425.27625\" width=\"726.94375pt\" xmlns=\"http://www.w3.org/2000/svg\" xmlns:xlink=\"http://www.w3.org/1999/xlink\">\n <metadata>\n  <rdf:RDF xmlns:cc=\"http://creativecommons.org/ns#\" xmlns:dc=\"http://purl.org/dc/elements/1.1/\" xmlns:rdf=\"http://www.w3.org/1999/02/22-rdf-syntax-ns#\">\n   <cc:Work>\n    <dc:type rdf:resource=\"http://purl.org/dc/dcmitype/StillImage\"/>\n    <dc:date>2021-05-27T14:17:19.996088</dc:date>\n    <dc:format>image/svg+xml</dc:format>\n    <dc:creator>\n     <cc:Agent>\n      <dc:title>Matplotlib v3.3.4, https://matplotlib.org/</dc:title>\n     </cc:Agent>\n    </dc:creator>\n   </cc:Work>\n  </rdf:RDF>\n </metadata>\n <defs>\n  <style type=\"text/css\">*{stroke-linecap:butt;stroke-linejoin:round;}</style>\n </defs>\n <g id=\"figure_1\">\n  <g id=\"patch_1\">\n   <path d=\"M 0 425.27625 \nL 726.94375 425.27625 \nL 726.94375 0 \nL 0 0 \nz\n\" style=\"fill:none;\"/>\n  </g>\n  <g id=\"axes_1\">\n   <g id=\"patch_2\">\n    <path d=\"M 50.14375 387.72 \nL 719.74375 387.72 \nL 719.74375 7.2 \nL 50.14375 7.2 \nz\n\" style=\"fill:#ffffff;\"/>\n   </g>\n   <g id=\"matplotlib.axis_1\">\n    <g id=\"xtick_1\">\n     <g id=\"line2d_1\">\n      <path clip-path=\"url(#pcc8f0d8685)\" d=\"M 55.216477 387.72 \nL 55.216477 7.2 \n\" style=\"fill:none;stroke:#b0b0b0;stroke-linecap:square;stroke-width:0.8;\"/>\n     </g>\n     <g id=\"line2d_2\">\n      <defs>\n       <path d=\"M 0 0 \nL 0 3.5 \n\" id=\"mb6a9355491\" style=\"stroke:#000000;stroke-width:0.8;\"/>\n      </defs>\n      <g>\n       <use style=\"stroke:#000000;stroke-width:0.8;\" x=\"55.216477\" xlink:href=\"#mb6a9355491\" y=\"387.72\"/>\n      </g>\n     </g>\n     <g id=\"text_1\">\n      <!-- 0 -->\n      <g transform=\"translate(52.035227 402.318437)scale(0.1 -0.1)\">\n       <defs>\n        <path d=\"M 31.78125 66.40625 \nQ 24.171875 66.40625 20.328125 58.90625 \nQ 16.5 51.421875 16.5 36.375 \nQ 16.5 21.390625 20.328125 13.890625 \nQ 24.171875 6.390625 31.78125 6.390625 \nQ 39.453125 6.390625 43.28125 13.890625 \nQ 47.125 21.390625 47.125 36.375 \nQ 47.125 51.421875 43.28125 58.90625 \nQ 39.453125 66.40625 31.78125 66.40625 \nz\nM 31.78125 74.21875 \nQ 44.046875 74.21875 50.515625 64.515625 \nQ 56.984375 54.828125 56.984375 36.375 \nQ 56.984375 17.96875 50.515625 8.265625 \nQ 44.046875 -1.421875 31.78125 -1.421875 \nQ 19.53125 -1.421875 13.0625 8.265625 \nQ 6.59375 17.96875 6.59375 36.375 \nQ 6.59375 54.828125 13.0625 64.515625 \nQ 19.53125 74.21875 31.78125 74.21875 \nz\n\" id=\"DejaVuSans-48\"/>\n       </defs>\n       <use xlink:href=\"#DejaVuSans-48\"/>\n      </g>\n     </g>\n    </g>\n    <g id=\"xtick_2\">\n     <g id=\"line2d_3\">\n      <path clip-path=\"url(#pcc8f0d8685)\" d=\"M 182.034659 387.72 \nL 182.034659 7.2 \n\" style=\"fill:none;stroke:#b0b0b0;stroke-linecap:square;stroke-width:0.8;\"/>\n     </g>\n     <g id=\"line2d_4\">\n      <g>\n       <use style=\"stroke:#000000;stroke-width:0.8;\" x=\"182.034659\" xlink:href=\"#mb6a9355491\" y=\"387.72\"/>\n      </g>\n     </g>\n     <g id=\"text_2\">\n      <!-- 100 -->\n      <g transform=\"translate(172.490909 402.318437)scale(0.1 -0.1)\">\n       <defs>\n        <path d=\"M 12.40625 8.296875 \nL 28.515625 8.296875 \nL 28.515625 63.921875 \nL 10.984375 60.40625 \nL 10.984375 69.390625 \nL 28.421875 72.90625 \nL 38.28125 72.90625 \nL 38.28125 8.296875 \nL 54.390625 8.296875 \nL 54.390625 0 \nL 12.40625 0 \nz\n\" id=\"DejaVuSans-49\"/>\n       </defs>\n       <use xlink:href=\"#DejaVuSans-49\"/>\n       <use x=\"63.623047\" xlink:href=\"#DejaVuSans-48\"/>\n       <use x=\"127.246094\" xlink:href=\"#DejaVuSans-48\"/>\n      </g>\n     </g>\n    </g>\n    <g id=\"xtick_3\">\n     <g id=\"line2d_5\">\n      <path clip-path=\"url(#pcc8f0d8685)\" d=\"M 308.852841 387.72 \nL 308.852841 7.2 \n\" style=\"fill:none;stroke:#b0b0b0;stroke-linecap:square;stroke-width:0.8;\"/>\n     </g>\n     <g id=\"line2d_6\">\n      <g>\n       <use style=\"stroke:#000000;stroke-width:0.8;\" x=\"308.852841\" xlink:href=\"#mb6a9355491\" y=\"387.72\"/>\n      </g>\n     </g>\n     <g id=\"text_3\">\n      <!-- 200 -->\n      <g transform=\"translate(299.309091 402.318437)scale(0.1 -0.1)\">\n       <defs>\n        <path d=\"M 19.1875 8.296875 \nL 53.609375 8.296875 \nL 53.609375 0 \nL 7.328125 0 \nL 7.328125 8.296875 \nQ 12.9375 14.109375 22.625 23.890625 \nQ 32.328125 33.6875 34.8125 36.53125 \nQ 39.546875 41.84375 41.421875 45.53125 \nQ 43.3125 49.21875 43.3125 52.78125 \nQ 43.3125 58.59375 39.234375 62.25 \nQ 35.15625 65.921875 28.609375 65.921875 \nQ 23.96875 65.921875 18.8125 64.3125 \nQ 13.671875 62.703125 7.8125 59.421875 \nL 7.8125 69.390625 \nQ 13.765625 71.78125 18.9375 73 \nQ 24.125 74.21875 28.421875 74.21875 \nQ 39.75 74.21875 46.484375 68.546875 \nQ 53.21875 62.890625 53.21875 53.421875 \nQ 53.21875 48.921875 51.53125 44.890625 \nQ 49.859375 40.875 45.40625 35.40625 \nQ 44.1875 33.984375 37.640625 27.21875 \nQ 31.109375 20.453125 19.1875 8.296875 \nz\n\" id=\"DejaVuSans-50\"/>\n       </defs>\n       <use xlink:href=\"#DejaVuSans-50\"/>\n       <use x=\"63.623047\" xlink:href=\"#DejaVuSans-48\"/>\n       <use x=\"127.246094\" xlink:href=\"#DejaVuSans-48\"/>\n      </g>\n     </g>\n    </g>\n    <g id=\"xtick_4\">\n     <g id=\"line2d_7\">\n      <path clip-path=\"url(#pcc8f0d8685)\" d=\"M 435.671023 387.72 \nL 435.671023 7.2 \n\" style=\"fill:none;stroke:#b0b0b0;stroke-linecap:square;stroke-width:0.8;\"/>\n     </g>\n     <g id=\"line2d_8\">\n      <g>\n       <use style=\"stroke:#000000;stroke-width:0.8;\" x=\"435.671023\" xlink:href=\"#mb6a9355491\" y=\"387.72\"/>\n      </g>\n     </g>\n     <g id=\"text_4\">\n      <!-- 300 -->\n      <g transform=\"translate(426.127273 402.318437)scale(0.1 -0.1)\">\n       <defs>\n        <path d=\"M 40.578125 39.3125 \nQ 47.65625 37.796875 51.625 33 \nQ 55.609375 28.21875 55.609375 21.1875 \nQ 55.609375 10.40625 48.1875 4.484375 \nQ 40.765625 -1.421875 27.09375 -1.421875 \nQ 22.515625 -1.421875 17.65625 -0.515625 \nQ 12.796875 0.390625 7.625 2.203125 \nL 7.625 11.71875 \nQ 11.71875 9.328125 16.59375 8.109375 \nQ 21.484375 6.890625 26.8125 6.890625 \nQ 36.078125 6.890625 40.9375 10.546875 \nQ 45.796875 14.203125 45.796875 21.1875 \nQ 45.796875 27.640625 41.28125 31.265625 \nQ 36.765625 34.90625 28.71875 34.90625 \nL 20.21875 34.90625 \nL 20.21875 43.015625 \nL 29.109375 43.015625 \nQ 36.375 43.015625 40.234375 45.921875 \nQ 44.09375 48.828125 44.09375 54.296875 \nQ 44.09375 59.90625 40.109375 62.90625 \nQ 36.140625 65.921875 28.71875 65.921875 \nQ 24.65625 65.921875 20.015625 65.03125 \nQ 15.375 64.15625 9.8125 62.3125 \nL 9.8125 71.09375 \nQ 15.4375 72.65625 20.34375 73.4375 \nQ 25.25 74.21875 29.59375 74.21875 \nQ 40.828125 74.21875 47.359375 69.109375 \nQ 53.90625 64.015625 53.90625 55.328125 \nQ 53.90625 49.265625 50.4375 45.09375 \nQ 46.96875 40.921875 40.578125 39.3125 \nz\n\" id=\"DejaVuSans-51\"/>\n       </defs>\n       <use xlink:href=\"#DejaVuSans-51\"/>\n       <use x=\"63.623047\" xlink:href=\"#DejaVuSans-48\"/>\n       <use x=\"127.246094\" xlink:href=\"#DejaVuSans-48\"/>\n      </g>\n     </g>\n    </g>\n    <g id=\"xtick_5\">\n     <g id=\"line2d_9\">\n      <path clip-path=\"url(#pcc8f0d8685)\" d=\"M 562.489205 387.72 \nL 562.489205 7.2 \n\" style=\"fill:none;stroke:#b0b0b0;stroke-linecap:square;stroke-width:0.8;\"/>\n     </g>\n     <g id=\"line2d_10\">\n      <g>\n       <use style=\"stroke:#000000;stroke-width:0.8;\" x=\"562.489205\" xlink:href=\"#mb6a9355491\" y=\"387.72\"/>\n      </g>\n     </g>\n     <g id=\"text_5\">\n      <!-- 400 -->\n      <g transform=\"translate(552.945455 402.318437)scale(0.1 -0.1)\">\n       <defs>\n        <path d=\"M 37.796875 64.3125 \nL 12.890625 25.390625 \nL 37.796875 25.390625 \nz\nM 35.203125 72.90625 \nL 47.609375 72.90625 \nL 47.609375 25.390625 \nL 58.015625 25.390625 \nL 58.015625 17.1875 \nL 47.609375 17.1875 \nL 47.609375 0 \nL 37.796875 0 \nL 37.796875 17.1875 \nL 4.890625 17.1875 \nL 4.890625 26.703125 \nz\n\" id=\"DejaVuSans-52\"/>\n       </defs>\n       <use xlink:href=\"#DejaVuSans-52\"/>\n       <use x=\"63.623047\" xlink:href=\"#DejaVuSans-48\"/>\n       <use x=\"127.246094\" xlink:href=\"#DejaVuSans-48\"/>\n      </g>\n     </g>\n    </g>\n    <g id=\"xtick_6\">\n     <g id=\"line2d_11\">\n      <path clip-path=\"url(#pcc8f0d8685)\" d=\"M 689.307386 387.72 \nL 689.307386 7.2 \n\" style=\"fill:none;stroke:#b0b0b0;stroke-linecap:square;stroke-width:0.8;\"/>\n     </g>\n     <g id=\"line2d_12\">\n      <g>\n       <use style=\"stroke:#000000;stroke-width:0.8;\" x=\"689.307386\" xlink:href=\"#mb6a9355491\" y=\"387.72\"/>\n      </g>\n     </g>\n     <g id=\"text_6\">\n      <!-- 500 -->\n      <g transform=\"translate(679.763636 402.318437)scale(0.1 -0.1)\">\n       <defs>\n        <path d=\"M 10.796875 72.90625 \nL 49.515625 72.90625 \nL 49.515625 64.59375 \nL 19.828125 64.59375 \nL 19.828125 46.734375 \nQ 21.96875 47.46875 24.109375 47.828125 \nQ 26.265625 48.1875 28.421875 48.1875 \nQ 40.625 48.1875 47.75 41.5 \nQ 54.890625 34.8125 54.890625 23.390625 \nQ 54.890625 11.625 47.5625 5.09375 \nQ 40.234375 -1.421875 26.90625 -1.421875 \nQ 22.3125 -1.421875 17.546875 -0.640625 \nQ 12.796875 0.140625 7.71875 1.703125 \nL 7.71875 11.625 \nQ 12.109375 9.234375 16.796875 8.0625 \nQ 21.484375 6.890625 26.703125 6.890625 \nQ 35.15625 6.890625 40.078125 11.328125 \nQ 45.015625 15.765625 45.015625 23.390625 \nQ 45.015625 31 40.078125 35.4375 \nQ 35.15625 39.890625 26.703125 39.890625 \nQ 22.75 39.890625 18.8125 39.015625 \nQ 14.890625 38.140625 10.796875 36.28125 \nz\n\" id=\"DejaVuSans-53\"/>\n       </defs>\n       <use xlink:href=\"#DejaVuSans-53\"/>\n       <use x=\"63.623047\" xlink:href=\"#DejaVuSans-48\"/>\n       <use x=\"127.246094\" xlink:href=\"#DejaVuSans-48\"/>\n      </g>\n     </g>\n    </g>\n    <g id=\"text_7\">\n     <!-- recall@5 -->\n     <g transform=\"translate(363.151563 415.996562)scale(0.1 -0.1)\">\n      <defs>\n       <path d=\"M 41.109375 46.296875 \nQ 39.59375 47.171875 37.8125 47.578125 \nQ 36.03125 48 33.890625 48 \nQ 26.265625 48 22.1875 43.046875 \nQ 18.109375 38.09375 18.109375 28.8125 \nL 18.109375 0 \nL 9.078125 0 \nL 9.078125 54.6875 \nL 18.109375 54.6875 \nL 18.109375 46.1875 \nQ 20.953125 51.171875 25.484375 53.578125 \nQ 30.03125 56 36.53125 56 \nQ 37.453125 56 38.578125 55.875 \nQ 39.703125 55.765625 41.0625 55.515625 \nz\n\" id=\"DejaVuSans-114\"/>\n       <path d=\"M 56.203125 29.59375 \nL 56.203125 25.203125 \nL 14.890625 25.203125 \nQ 15.484375 15.921875 20.484375 11.0625 \nQ 25.484375 6.203125 34.421875 6.203125 \nQ 39.59375 6.203125 44.453125 7.46875 \nQ 49.3125 8.734375 54.109375 11.28125 \nL 54.109375 2.78125 \nQ 49.265625 0.734375 44.1875 -0.34375 \nQ 39.109375 -1.421875 33.890625 -1.421875 \nQ 20.796875 -1.421875 13.15625 6.1875 \nQ 5.515625 13.8125 5.515625 26.8125 \nQ 5.515625 40.234375 12.765625 48.109375 \nQ 20.015625 56 32.328125 56 \nQ 43.359375 56 49.78125 48.890625 \nQ 56.203125 41.796875 56.203125 29.59375 \nz\nM 47.21875 32.234375 \nQ 47.125 39.59375 43.09375 43.984375 \nQ 39.0625 48.390625 32.421875 48.390625 \nQ 24.90625 48.390625 20.390625 44.140625 \nQ 15.875 39.890625 15.1875 32.171875 \nz\n\" id=\"DejaVuSans-101\"/>\n       <path d=\"M 48.78125 52.59375 \nL 48.78125 44.1875 \nQ 44.96875 46.296875 41.140625 47.34375 \nQ 37.3125 48.390625 33.40625 48.390625 \nQ 24.65625 48.390625 19.8125 42.84375 \nQ 14.984375 37.3125 14.984375 27.296875 \nQ 14.984375 17.28125 19.8125 11.734375 \nQ 24.65625 6.203125 33.40625 6.203125 \nQ 37.3125 6.203125 41.140625 7.25 \nQ 44.96875 8.296875 48.78125 10.40625 \nL 48.78125 2.09375 \nQ 45.015625 0.34375 40.984375 -0.53125 \nQ 36.96875 -1.421875 32.421875 -1.421875 \nQ 20.0625 -1.421875 12.78125 6.34375 \nQ 5.515625 14.109375 5.515625 27.296875 \nQ 5.515625 40.671875 12.859375 48.328125 \nQ 20.21875 56 33.015625 56 \nQ 37.15625 56 41.109375 55.140625 \nQ 45.0625 54.296875 48.78125 52.59375 \nz\n\" id=\"DejaVuSans-99\"/>\n       <path d=\"M 34.28125 27.484375 \nQ 23.390625 27.484375 19.1875 25 \nQ 14.984375 22.515625 14.984375 16.5 \nQ 14.984375 11.71875 18.140625 8.90625 \nQ 21.296875 6.109375 26.703125 6.109375 \nQ 34.1875 6.109375 38.703125 11.40625 \nQ 43.21875 16.703125 43.21875 25.484375 \nL 43.21875 27.484375 \nz\nM 52.203125 31.203125 \nL 52.203125 0 \nL 43.21875 0 \nL 43.21875 8.296875 \nQ 40.140625 3.328125 35.546875 0.953125 \nQ 30.953125 -1.421875 24.3125 -1.421875 \nQ 15.921875 -1.421875 10.953125 3.296875 \nQ 6 8.015625 6 15.921875 \nQ 6 25.140625 12.171875 29.828125 \nQ 18.359375 34.515625 30.609375 34.515625 \nL 43.21875 34.515625 \nL 43.21875 35.40625 \nQ 43.21875 41.609375 39.140625 45 \nQ 35.0625 48.390625 27.6875 48.390625 \nQ 23 48.390625 18.546875 47.265625 \nQ 14.109375 46.140625 10.015625 43.890625 \nL 10.015625 52.203125 \nQ 14.9375 54.109375 19.578125 55.046875 \nQ 24.21875 56 28.609375 56 \nQ 40.484375 56 46.34375 49.84375 \nQ 52.203125 43.703125 52.203125 31.203125 \nz\n\" id=\"DejaVuSans-97\"/>\n       <path d=\"M 9.421875 75.984375 \nL 18.40625 75.984375 \nL 18.40625 0 \nL 9.421875 0 \nz\n\" id=\"DejaVuSans-108\"/>\n       <path d=\"M 37.203125 26.21875 \nQ 37.203125 19.234375 40.671875 15.25 \nQ 44.140625 11.28125 50.203125 11.28125 \nQ 56.203125 11.28125 59.640625 15.28125 \nQ 63.09375 19.28125 63.09375 26.21875 \nQ 63.09375 33.0625 59.578125 37.078125 \nQ 56.0625 41.109375 50.09375 41.109375 \nQ 44.1875 41.109375 40.6875 37.109375 \nQ 37.203125 33.109375 37.203125 26.21875 \nz\nM 63.8125 11.625 \nQ 60.890625 7.859375 57.109375 6.078125 \nQ 53.328125 4.296875 48.296875 4.296875 \nQ 39.890625 4.296875 34.640625 10.375 \nQ 29.390625 16.453125 29.390625 26.21875 \nQ 29.390625 35.984375 34.65625 42.078125 \nQ 39.9375 48.1875 48.296875 48.1875 \nQ 53.328125 48.1875 57.125 46.359375 \nQ 60.9375 44.53125 63.8125 40.828125 \nL 63.8125 47.21875 \nL 70.796875 47.21875 \nL 70.796875 11.28125 \nQ 77.9375 12.359375 81.953125 17.796875 \nQ 85.984375 23.25 85.984375 31.890625 \nQ 85.984375 37.109375 84.4375 41.703125 \nQ 82.90625 46.296875 79.78125 50.203125 \nQ 74.703125 56.59375 67.40625 59.984375 \nQ 60.109375 63.375 51.515625 63.375 \nQ 45.515625 63.375 39.984375 61.78125 \nQ 34.46875 60.203125 29.78125 57.078125 \nQ 22.125 52.09375 17.796875 44.015625 \nQ 13.484375 35.9375 13.484375 26.515625 \nQ 13.484375 18.75 16.28125 11.953125 \nQ 19.09375 5.171875 24.421875 0 \nQ 29.546875 -5.078125 36.28125 -7.734375 \nQ 43.015625 -10.40625 50.6875 -10.40625 \nQ 56.984375 -10.40625 63.0625 -8.28125 \nQ 69.140625 -6.15625 74.21875 -2.203125 \nL 78.609375 -7.625 \nQ 72.515625 -12.359375 65.3125 -14.875 \nQ 58.109375 -17.390625 50.6875 -17.390625 \nQ 41.65625 -17.390625 33.640625 -14.1875 \nQ 25.640625 -10.984375 19.390625 -4.890625 \nQ 13.140625 1.21875 9.859375 9.25 \nQ 6.59375 17.28125 6.59375 26.515625 \nQ 6.59375 35.40625 9.90625 43.453125 \nQ 13.234375 51.515625 19.390625 57.625 \nQ 25.6875 63.8125 33.9375 67.109375 \nQ 42.1875 70.40625 51.421875 70.40625 \nQ 61.765625 70.40625 70.625 66.15625 \nQ 79.5 61.921875 85.5 54.109375 \nQ 89.15625 49.3125 91.078125 43.703125 \nQ 93.015625 38.09375 93.015625 32.078125 \nQ 93.015625 19.234375 85.25 11.8125 \nQ 77.484375 4.390625 63.8125 4.109375 \nz\n\" id=\"DejaVuSans-64\"/>\n      </defs>\n      <use xlink:href=\"#DejaVuSans-114\"/>\n      <use x=\"38.863281\" xlink:href=\"#DejaVuSans-101\"/>\n      <use x=\"100.386719\" xlink:href=\"#DejaVuSans-99\"/>\n      <use x=\"155.367188\" xlink:href=\"#DejaVuSans-97\"/>\n      <use x=\"216.646484\" xlink:href=\"#DejaVuSans-108\"/>\n      <use x=\"244.429688\" xlink:href=\"#DejaVuSans-108\"/>\n      <use x=\"272.212891\" xlink:href=\"#DejaVuSans-64\"/>\n      <use x=\"372.212891\" xlink:href=\"#DejaVuSans-53\"/>\n     </g>\n    </g>\n   </g>\n   <g id=\"matplotlib.axis_2\">\n    <g id=\"ytick_1\">\n     <g id=\"line2d_13\">\n      <path clip-path=\"url(#pcc8f0d8685)\" d=\"M 50.14375 361.979394 \nL 719.74375 361.979394 \n\" style=\"fill:none;stroke:#b0b0b0;stroke-linecap:square;stroke-width:0.8;\"/>\n     </g>\n     <g id=\"line2d_14\">\n      <defs>\n       <path d=\"M 0 0 \nL -3.5 0 \n\" id=\"md012e060ed\" style=\"stroke:#000000;stroke-width:0.8;\"/>\n      </defs>\n      <g>\n       <use style=\"stroke:#000000;stroke-width:0.8;\" x=\"50.14375\" xlink:href=\"#md012e060ed\" y=\"361.979394\"/>\n      </g>\n     </g>\n     <g id=\"text_8\">\n      <!-- 0.04 -->\n      <g transform=\"translate(20.878125 365.778613)scale(0.1 -0.1)\">\n       <defs>\n        <path d=\"M 10.6875 12.40625 \nL 21 12.40625 \nL 21 0 \nL 10.6875 0 \nz\n\" id=\"DejaVuSans-46\"/>\n       </defs>\n       <use xlink:href=\"#DejaVuSans-48\"/>\n       <use x=\"63.623047\" xlink:href=\"#DejaVuSans-46\"/>\n       <use x=\"95.410156\" xlink:href=\"#DejaVuSans-48\"/>\n       <use x=\"159.033203\" xlink:href=\"#DejaVuSans-52\"/>\n      </g>\n     </g>\n    </g>\n    <g id=\"ytick_2\">\n     <g id=\"line2d_15\">\n      <path clip-path=\"url(#pcc8f0d8685)\" d=\"M 50.14375 313.979504 \nL 719.74375 313.979504 \n\" style=\"fill:none;stroke:#b0b0b0;stroke-linecap:square;stroke-width:0.8;\"/>\n     </g>\n     <g id=\"line2d_16\">\n      <g>\n       <use style=\"stroke:#000000;stroke-width:0.8;\" x=\"50.14375\" xlink:href=\"#md012e060ed\" y=\"313.979504\"/>\n      </g>\n     </g>\n     <g id=\"text_9\">\n      <!-- 0.06 -->\n      <g transform=\"translate(20.878125 317.778723)scale(0.1 -0.1)\">\n       <defs>\n        <path d=\"M 33.015625 40.375 \nQ 26.375 40.375 22.484375 35.828125 \nQ 18.609375 31.296875 18.609375 23.390625 \nQ 18.609375 15.53125 22.484375 10.953125 \nQ 26.375 6.390625 33.015625 6.390625 \nQ 39.65625 6.390625 43.53125 10.953125 \nQ 47.40625 15.53125 47.40625 23.390625 \nQ 47.40625 31.296875 43.53125 35.828125 \nQ 39.65625 40.375 33.015625 40.375 \nz\nM 52.59375 71.296875 \nL 52.59375 62.3125 \nQ 48.875 64.0625 45.09375 64.984375 \nQ 41.3125 65.921875 37.59375 65.921875 \nQ 27.828125 65.921875 22.671875 59.328125 \nQ 17.53125 52.734375 16.796875 39.40625 \nQ 19.671875 43.65625 24.015625 45.921875 \nQ 28.375 48.1875 33.59375 48.1875 \nQ 44.578125 48.1875 50.953125 41.515625 \nQ 57.328125 34.859375 57.328125 23.390625 \nQ 57.328125 12.15625 50.6875 5.359375 \nQ 44.046875 -1.421875 33.015625 -1.421875 \nQ 20.359375 -1.421875 13.671875 8.265625 \nQ 6.984375 17.96875 6.984375 36.375 \nQ 6.984375 53.65625 15.1875 63.9375 \nQ 23.390625 74.21875 37.203125 74.21875 \nQ 40.921875 74.21875 44.703125 73.484375 \nQ 48.484375 72.75 52.59375 71.296875 \nz\n\" id=\"DejaVuSans-54\"/>\n       </defs>\n       <use xlink:href=\"#DejaVuSans-48\"/>\n       <use x=\"63.623047\" xlink:href=\"#DejaVuSans-46\"/>\n       <use x=\"95.410156\" xlink:href=\"#DejaVuSans-48\"/>\n       <use x=\"159.033203\" xlink:href=\"#DejaVuSans-54\"/>\n      </g>\n     </g>\n    </g>\n    <g id=\"ytick_3\">\n     <g id=\"line2d_17\">\n      <path clip-path=\"url(#pcc8f0d8685)\" d=\"M 50.14375 265.979614 \nL 719.74375 265.979614 \n\" style=\"fill:none;stroke:#b0b0b0;stroke-linecap:square;stroke-width:0.8;\"/>\n     </g>\n     <g id=\"line2d_18\">\n      <g>\n       <use style=\"stroke:#000000;stroke-width:0.8;\" x=\"50.14375\" xlink:href=\"#md012e060ed\" y=\"265.979614\"/>\n      </g>\n     </g>\n     <g id=\"text_10\">\n      <!-- 0.08 -->\n      <g transform=\"translate(20.878125 269.778833)scale(0.1 -0.1)\">\n       <defs>\n        <path d=\"M 31.78125 34.625 \nQ 24.75 34.625 20.71875 30.859375 \nQ 16.703125 27.09375 16.703125 20.515625 \nQ 16.703125 13.921875 20.71875 10.15625 \nQ 24.75 6.390625 31.78125 6.390625 \nQ 38.8125 6.390625 42.859375 10.171875 \nQ 46.921875 13.96875 46.921875 20.515625 \nQ 46.921875 27.09375 42.890625 30.859375 \nQ 38.875 34.625 31.78125 34.625 \nz\nM 21.921875 38.8125 \nQ 15.578125 40.375 12.03125 44.71875 \nQ 8.5 49.078125 8.5 55.328125 \nQ 8.5 64.0625 14.71875 69.140625 \nQ 20.953125 74.21875 31.78125 74.21875 \nQ 42.671875 74.21875 48.875 69.140625 \nQ 55.078125 64.0625 55.078125 55.328125 \nQ 55.078125 49.078125 51.53125 44.71875 \nQ 48 40.375 41.703125 38.8125 \nQ 48.828125 37.15625 52.796875 32.3125 \nQ 56.78125 27.484375 56.78125 20.515625 \nQ 56.78125 9.90625 50.3125 4.234375 \nQ 43.84375 -1.421875 31.78125 -1.421875 \nQ 19.734375 -1.421875 13.25 4.234375 \nQ 6.78125 9.90625 6.78125 20.515625 \nQ 6.78125 27.484375 10.78125 32.3125 \nQ 14.796875 37.15625 21.921875 38.8125 \nz\nM 18.3125 54.390625 \nQ 18.3125 48.734375 21.84375 45.5625 \nQ 25.390625 42.390625 31.78125 42.390625 \nQ 38.140625 42.390625 41.71875 45.5625 \nQ 45.3125 48.734375 45.3125 54.390625 \nQ 45.3125 60.0625 41.71875 63.234375 \nQ 38.140625 66.40625 31.78125 66.40625 \nQ 25.390625 66.40625 21.84375 63.234375 \nQ 18.3125 60.0625 18.3125 54.390625 \nz\n\" id=\"DejaVuSans-56\"/>\n       </defs>\n       <use xlink:href=\"#DejaVuSans-48\"/>\n       <use x=\"63.623047\" xlink:href=\"#DejaVuSans-46\"/>\n       <use x=\"95.410156\" xlink:href=\"#DejaVuSans-48\"/>\n       <use x=\"159.033203\" xlink:href=\"#DejaVuSans-56\"/>\n      </g>\n     </g>\n    </g>\n    <g id=\"ytick_4\">\n     <g id=\"line2d_19\">\n      <path clip-path=\"url(#pcc8f0d8685)\" d=\"M 50.14375 217.979724 \nL 719.74375 217.979724 \n\" style=\"fill:none;stroke:#b0b0b0;stroke-linecap:square;stroke-width:0.8;\"/>\n     </g>\n     <g id=\"line2d_20\">\n      <g>\n       <use style=\"stroke:#000000;stroke-width:0.8;\" x=\"50.14375\" xlink:href=\"#md012e060ed\" y=\"217.979724\"/>\n      </g>\n     </g>\n     <g id=\"text_11\">\n      <!-- 0.10 -->\n      <g transform=\"translate(20.878125 221.778943)scale(0.1 -0.1)\">\n       <use xlink:href=\"#DejaVuSans-48\"/>\n       <use x=\"63.623047\" xlink:href=\"#DejaVuSans-46\"/>\n       <use x=\"95.410156\" xlink:href=\"#DejaVuSans-49\"/>\n       <use x=\"159.033203\" xlink:href=\"#DejaVuSans-48\"/>\n      </g>\n     </g>\n    </g>\n    <g id=\"ytick_5\">\n     <g id=\"line2d_21\">\n      <path clip-path=\"url(#pcc8f0d8685)\" d=\"M 50.14375 169.979834 \nL 719.74375 169.979834 \n\" style=\"fill:none;stroke:#b0b0b0;stroke-linecap:square;stroke-width:0.8;\"/>\n     </g>\n     <g id=\"line2d_22\">\n      <g>\n       <use style=\"stroke:#000000;stroke-width:0.8;\" x=\"50.14375\" xlink:href=\"#md012e060ed\" y=\"169.979834\"/>\n      </g>\n     </g>\n     <g id=\"text_12\">\n      <!-- 0.12 -->\n      <g transform=\"translate(20.878125 173.779053)scale(0.1 -0.1)\">\n       <use xlink:href=\"#DejaVuSans-48\"/>\n       <use x=\"63.623047\" xlink:href=\"#DejaVuSans-46\"/>\n       <use x=\"95.410156\" xlink:href=\"#DejaVuSans-49\"/>\n       <use x=\"159.033203\" xlink:href=\"#DejaVuSans-50\"/>\n      </g>\n     </g>\n    </g>\n    <g id=\"ytick_6\">\n     <g id=\"line2d_23\">\n      <path clip-path=\"url(#pcc8f0d8685)\" d=\"M 50.14375 121.979944 \nL 719.74375 121.979944 \n\" style=\"fill:none;stroke:#b0b0b0;stroke-linecap:square;stroke-width:0.8;\"/>\n     </g>\n     <g id=\"line2d_24\">\n      <g>\n       <use style=\"stroke:#000000;stroke-width:0.8;\" x=\"50.14375\" xlink:href=\"#md012e060ed\" y=\"121.979944\"/>\n      </g>\n     </g>\n     <g id=\"text_13\">\n      <!-- 0.14 -->\n      <g transform=\"translate(20.878125 125.779163)scale(0.1 -0.1)\">\n       <use xlink:href=\"#DejaVuSans-48\"/>\n       <use x=\"63.623047\" xlink:href=\"#DejaVuSans-46\"/>\n       <use x=\"95.410156\" xlink:href=\"#DejaVuSans-49\"/>\n       <use x=\"159.033203\" xlink:href=\"#DejaVuSans-52\"/>\n      </g>\n     </g>\n    </g>\n    <g id=\"ytick_7\">\n     <g id=\"line2d_25\">\n      <path clip-path=\"url(#pcc8f0d8685)\" d=\"M 50.14375 73.980054 \nL 719.74375 73.980054 \n\" style=\"fill:none;stroke:#b0b0b0;stroke-linecap:square;stroke-width:0.8;\"/>\n     </g>\n     <g id=\"line2d_26\">\n      <g>\n       <use style=\"stroke:#000000;stroke-width:0.8;\" x=\"50.14375\" xlink:href=\"#md012e060ed\" y=\"73.980054\"/>\n      </g>\n     </g>\n     <g id=\"text_14\">\n      <!-- 0.16 -->\n      <g transform=\"translate(20.878125 77.779273)scale(0.1 -0.1)\">\n       <use xlink:href=\"#DejaVuSans-48\"/>\n       <use x=\"63.623047\" xlink:href=\"#DejaVuSans-46\"/>\n       <use x=\"95.410156\" xlink:href=\"#DejaVuSans-49\"/>\n       <use x=\"159.033203\" xlink:href=\"#DejaVuSans-54\"/>\n      </g>\n     </g>\n    </g>\n    <g id=\"ytick_8\">\n     <g id=\"line2d_27\">\n      <path clip-path=\"url(#pcc8f0d8685)\" d=\"M 50.14375 25.980164 \nL 719.74375 25.980164 \n\" style=\"fill:none;stroke:#b0b0b0;stroke-linecap:square;stroke-width:0.8;\"/>\n     </g>\n     <g id=\"line2d_28\">\n      <g>\n       <use style=\"stroke:#000000;stroke-width:0.8;\" x=\"50.14375\" xlink:href=\"#md012e060ed\" y=\"25.980164\"/>\n      </g>\n     </g>\n     <g id=\"text_15\">\n      <!-- 0.18 -->\n      <g transform=\"translate(20.878125 29.779383)scale(0.1 -0.1)\">\n       <use xlink:href=\"#DejaVuSans-48\"/>\n       <use x=\"63.623047\" xlink:href=\"#DejaVuSans-46\"/>\n       <use x=\"95.410156\" xlink:href=\"#DejaVuSans-49\"/>\n       <use x=\"159.033203\" xlink:href=\"#DejaVuSans-56\"/>\n      </g>\n     </g>\n    </g>\n    <g id=\"text_16\">\n     <!-- k -->\n     <g transform=\"translate(14.798437 200.355312)rotate(-90)scale(0.1 -0.1)\">\n      <defs>\n       <path d=\"M 9.078125 75.984375 \nL 18.109375 75.984375 \nL 18.109375 31.109375 \nL 44.921875 54.6875 \nL 56.390625 54.6875 \nL 27.390625 29.109375 \nL 57.625 0 \nL 45.90625 0 \nL 18.109375 26.703125 \nL 18.109375 0 \nL 9.078125 0 \nz\n\" id=\"DejaVuSans-107\"/>\n      </defs>\n      <use xlink:href=\"#DejaVuSans-107\"/>\n     </g>\n    </g>\n   </g>\n   <g id=\"line2d_29\">\n    <path clip-path=\"url(#pcc8f0d8685)\" d=\"M 80.580114 370.423636 \nL 118.625568 309.93743 \nL 182.034659 236.893726 \nL 308.852841 139.826256 \nL 689.307386 24.496364 \n\" style=\"fill:none;stroke:#1f77b4;stroke-linecap:square;stroke-width:1.5;\"/>\n   </g>\n   <g id=\"patch_3\">\n    <path d=\"M 50.14375 387.72 \nL 50.14375 7.2 \n\" style=\"fill:none;stroke:#000000;stroke-linecap:square;stroke-linejoin:miter;stroke-width:0.8;\"/>\n   </g>\n   <g id=\"patch_4\">\n    <path d=\"M 719.74375 387.72 \nL 719.74375 7.2 \n\" style=\"fill:none;stroke:#000000;stroke-linecap:square;stroke-linejoin:miter;stroke-width:0.8;\"/>\n   </g>\n   <g id=\"patch_5\">\n    <path d=\"M 50.14375 387.72 \nL 719.74375 387.72 \n\" style=\"fill:none;stroke:#000000;stroke-linecap:square;stroke-linejoin:miter;stroke-width:0.8;\"/>\n   </g>\n   <g id=\"patch_6\">\n    <path d=\"M 50.14375 7.2 \nL 719.74375 7.2 \n\" style=\"fill:none;stroke:#000000;stroke-linecap:square;stroke-linejoin:miter;stroke-width:0.8;\"/>\n   </g>\n  </g>\n </g>\n <defs>\n  <clipPath id=\"pcc8f0d8685\">\n   <rect height=\"380.52\" width=\"669.6\" x=\"50.14375\" y=\"7.2\"/>\n  </clipPath>\n </defs>\n</svg>\n",
      "image/png": "[encoded data removed]"
     },
     "metadata": {
      "needs_background": "light"
     }
    }
   ],
   "source": [
    "plt.figure(figsize=(12, 7))\n",
    "plt.plot(n, rec_list)\n",
    "plt.xlabel(\"recall@5\")\n",
    "plt.ylabel(\"k\")\n",
    "plt.grid(True)"
   ]
  },
  {
   "source": [
    "### recall@k растет при увеличении k"
   ],
   "cell_type": "markdown",
   "metadata": {}
  },
  {
   "source": [
    "Думаю, что наиболлее разумно выбрать k$\\approx$100. Хотя нужно учитывать уоличество рекомендуемых товаров"
   ],
   "cell_type": "markdown",
   "metadata": {}
  },
  {
   "source": [
    "**Задание 2.**\n",
    "\n",
    "Обучите модель 2-ого уровня, при этом:\n",
    "\n",
    "- Добавьте минимум по 2 фичи для юзера, товара и пары юзер-товар\n",
    "\n",
    "- Измерьте отдельно precision@5 модели 1-ого уровня и двухуровневой модели на data_val_ranker\n",
    "\n",
    "- Вырос ли precision@5 при использовании двухуровневой модели?"
   ],
   "cell_type": "markdown",
   "metadata": {}
  },
  {
   "source": [
    "### Добавляем признаки продуктам"
   ],
   "cell_type": "markdown",
   "metadata": {}
  },
  {
   "cell_type": "code",
   "execution_count": 43,
   "metadata": {},
   "outputs": [
    {
     "output_type": "execute_result",
     "data": {
      "text/plain": [
       "   item_id  manufacturer    department     brand            commodity_desc  \\\n",
       "0    25671             2       GROCERY  National                  FRZN ICE   \n",
       "1    25671             2       GROCERY  National                  FRZN ICE   \n",
       "2    25671             2       GROCERY  National                  FRZN ICE   \n",
       "3    26081             2  MISC. TRANS.  National  NO COMMODITY DESCRIPTION   \n",
       "4    26093            69        PASTRY   Private                     BREAD   \n",
       "\n",
       "            sub_commodity_desc curr_size_of_product  quantity_of_sales_x  \\\n",
       "0          ICE - CRUSHED/CUBED                22 LB                    3   \n",
       "1          ICE - CRUSHED/CUBED                22 LB                    3   \n",
       "2          ICE - CRUSHED/CUBED                22 LB                    3   \n",
       "3  NO SUBCOMMODITY DESCRIPTION                                         1   \n",
       "4         BREAD:ITALIAN/FRENCH                                         1   \n",
       "\n",
       "   weekly_quantity_of_sales_x  price_x  ...    basket_id  day  quantity  \\\n",
       "0                    0.031579     3.49  ...  29046618323  157         1   \n",
       "1                    0.031579     3.49  ...  30707611686  247         1   \n",
       "2                    0.031579     3.49  ...  33046710871  410         4   \n",
       "3                    0.010526     0.99  ...  30760265177  250         1   \n",
       "4                    0.010526     1.59  ...  33783848749  458         1   \n",
       "\n",
       "   sales_value  store_id  retail_disc  trans_time  week_no  coupon_disc  \\\n",
       "0         3.49      3313          0.0        2213       23          0.0   \n",
       "1         3.49      3266          0.0        1211       36          0.0   \n",
       "2        13.96      3191          0.0        1139       59          0.0   \n",
       "3         0.99      3235          0.0         936       36          0.0   \n",
       "4         1.59     33904          0.0        2034       66          0.0   \n",
       "\n",
       "   coupon_match_disc  \n",
       "0                0.0  \n",
       "1                0.0  \n",
       "2                0.0  \n",
       "3                0.0  \n",
       "4                0.0  \n",
       "\n",
       "[5 rows x 24 columns]"
      ],
      "text/html": "<div>\n<style scoped>\n    .dataframe tbody tr th:only-of-type {\n        vertical-align: middle;\n    }\n\n    .dataframe tbody tr th {\n        vertical-align: top;\n    }\n\n    .dataframe thead th {\n        text-align: right;\n    }\n</style>\n<table border=\"1\" class=\"dataframe\">\n  <thead>\n    <tr style=\"text-align: right;\">\n      <th></th>\n      <th>item_id</th>\n      <th>manufacturer</th>\n      <th>department</th>\n      <th>brand</th>\n      <th>commodity_desc</th>\n      <th>sub_commodity_desc</th>\n      <th>curr_size_of_product</th>\n      <th>quantity_of_sales_x</th>\n      <th>weekly_quantity_of_sales_x</th>\n      <th>price_x</th>\n      <th>...</th>\n      <th>basket_id</th>\n      <th>day</th>\n      <th>quantity</th>\n      <th>sales_value</th>\n      <th>store_id</th>\n      <th>retail_disc</th>\n      <th>trans_time</th>\n      <th>week_no</th>\n      <th>coupon_disc</th>\n      <th>coupon_match_disc</th>\n    </tr>\n  </thead>\n  <tbody>\n    <tr>\n      <th>0</th>\n      <td>25671</td>\n      <td>2</td>\n      <td>GROCERY</td>\n      <td>National</td>\n      <td>FRZN ICE</td>\n      <td>ICE - CRUSHED/CUBED</td>\n      <td>22 LB</td>\n      <td>3</td>\n      <td>0.031579</td>\n      <td>3.49</td>\n      <td>...</td>\n      <td>29046618323</td>\n      <td>157</td>\n      <td>1</td>\n      <td>3.49</td>\n      <td>3313</td>\n      <td>0.0</td>\n      <td>2213</td>\n      <td>23</td>\n      <td>0.0</td>\n      <td>0.0</td>\n    </tr>\n    <tr>\n      <th>1</th>\n      <td>25671</td>\n      <td>2</td>\n      <td>GROCERY</td>\n      <td>National</td>\n      <td>FRZN ICE</td>\n      <td>ICE - CRUSHED/CUBED</td>\n      <td>22 LB</td>\n      <td>3</td>\n      <td>0.031579</td>\n      <td>3.49</td>\n      <td>...</td>\n      <td>30707611686</td>\n      <td>247</td>\n      <td>1</td>\n      <td>3.49</td>\n      <td>3266</td>\n      <td>0.0</td>\n      <td>1211</td>\n      <td>36</td>\n      <td>0.0</td>\n      <td>0.0</td>\n    </tr>\n    <tr>\n      <th>2</th>\n      <td>25671</td>\n      <td>2</td>\n      <td>GROCERY</td>\n      <td>National</td>\n      <td>FRZN ICE</td>\n      <td>ICE - CRUSHED/CUBED</td>\n      <td>22 LB</td>\n      <td>3</td>\n      <td>0.031579</td>\n      <td>3.49</td>\n      <td>...</td>\n      <td>33046710871</td>\n      <td>410</td>\n      <td>4</td>\n      <td>13.96</td>\n      <td>3191</td>\n      <td>0.0</td>\n      <td>1139</td>\n      <td>59</td>\n      <td>0.0</td>\n      <td>0.0</td>\n    </tr>\n    <tr>\n      <th>3</th>\n      <td>26081</td>\n      <td>2</td>\n      <td>MISC. TRANS.</td>\n      <td>National</td>\n      <td>NO COMMODITY DESCRIPTION</td>\n      <td>NO SUBCOMMODITY DESCRIPTION</td>\n      <td></td>\n      <td>1</td>\n      <td>0.010526</td>\n      <td>0.99</td>\n      <td>...</td>\n      <td>30760265177</td>\n      <td>250</td>\n      <td>1</td>\n      <td>0.99</td>\n      <td>3235</td>\n      <td>0.0</td>\n      <td>936</td>\n      <td>36</td>\n      <td>0.0</td>\n      <td>0.0</td>\n    </tr>\n    <tr>\n      <th>4</th>\n      <td>26093</td>\n      <td>69</td>\n      <td>PASTRY</td>\n      <td>Private</td>\n      <td>BREAD</td>\n      <td>BREAD:ITALIAN/FRENCH</td>\n      <td></td>\n      <td>1</td>\n      <td>0.010526</td>\n      <td>1.59</td>\n      <td>...</td>\n      <td>33783848749</td>\n      <td>458</td>\n      <td>1</td>\n      <td>1.59</td>\n      <td>33904</td>\n      <td>0.0</td>\n      <td>2034</td>\n      <td>66</td>\n      <td>0.0</td>\n      <td>0.0</td>\n    </tr>\n  </tbody>\n</table>\n<p>5 rows × 24 columns</p>\n</div>"
     },
     "metadata": {},
     "execution_count": 43
    }
   ],
   "source": [
    "new_item_features = item_features.merge(data, on='item_id', how='left')\n",
    "new_item_features.head()"
   ]
  },
  {
   "cell_type": "code",
   "execution_count": 44,
   "metadata": {},
   "outputs": [
    {
     "output_type": "execute_result",
     "data": {
      "text/plain": [
       "   item_id  quantity_of_sales  quantity_of_sales_weekly\n",
       "0    25671                  3                  0.031579\n",
       "1    26081                  1                  0.010526\n",
       "2    26093                  1                  0.010526\n",
       "3    26190                  1                  0.010526\n",
       "4    26355                  1                  0.010526"
      ],
      "text/html": "<div>\n<style scoped>\n    .dataframe tbody tr th:only-of-type {\n        vertical-align: middle;\n    }\n\n    .dataframe tbody tr th {\n        vertical-align: top;\n    }\n\n    .dataframe thead th {\n        text-align: right;\n    }\n</style>\n<table border=\"1\" class=\"dataframe\">\n  <thead>\n    <tr style=\"text-align: right;\">\n      <th></th>\n      <th>item_id</th>\n      <th>quantity_of_sales</th>\n      <th>quantity_of_sales_weekly</th>\n    </tr>\n  </thead>\n  <tbody>\n    <tr>\n      <th>0</th>\n      <td>25671</td>\n      <td>3</td>\n      <td>0.031579</td>\n    </tr>\n    <tr>\n      <th>1</th>\n      <td>26081</td>\n      <td>1</td>\n      <td>0.010526</td>\n    </tr>\n    <tr>\n      <th>2</th>\n      <td>26093</td>\n      <td>1</td>\n      <td>0.010526</td>\n    </tr>\n    <tr>\n      <th>3</th>\n      <td>26190</td>\n      <td>1</td>\n      <td>0.010526</td>\n    </tr>\n    <tr>\n      <th>4</th>\n      <td>26355</td>\n      <td>1</td>\n      <td>0.010526</td>\n    </tr>\n  </tbody>\n</table>\n</div>"
     },
     "metadata": {},
     "execution_count": 44
    }
   ],
   "source": [
    "# Количество продаж в неделю\n",
    "item_quantity = new_item_features.groupby(['item_id'])['quantity'].count().reset_index()\n",
    "item_quantity.rename(columns={'quantity': 'quantity_of_sales'}, inplace=True)\n",
    "item_quantity['quantity_of_sales_weekly'] = item_quantity['quantity_of_sales'] / new_item_features['week_no'].nunique()\n",
    "item_quantity.head()"
   ]
  },
  {
   "cell_type": "code",
   "execution_count": 45,
   "metadata": {},
   "outputs": [
    {
     "output_type": "execute_result",
     "data": {
      "text/plain": [
       "   item_id  avg_price\n",
       "0    25671       3.49\n",
       "1    26081       0.99\n",
       "2    26093       1.59\n",
       "3    26190       1.54\n",
       "4    26355       0.99"
      ],
      "text/html": "<div>\n<style scoped>\n    .dataframe tbody tr th:only-of-type {\n        vertical-align: middle;\n    }\n\n    .dataframe tbody tr th {\n        vertical-align: top;\n    }\n\n    .dataframe thead th {\n        text-align: right;\n    }\n</style>\n<table border=\"1\" class=\"dataframe\">\n  <thead>\n    <tr style=\"text-align: right;\">\n      <th></th>\n      <th>item_id</th>\n      <th>avg_price</th>\n    </tr>\n  </thead>\n  <tbody>\n    <tr>\n      <th>0</th>\n      <td>25671</td>\n      <td>3.49</td>\n    </tr>\n    <tr>\n      <th>1</th>\n      <td>26081</td>\n      <td>0.99</td>\n    </tr>\n    <tr>\n      <th>2</th>\n      <td>26093</td>\n      <td>1.59</td>\n    </tr>\n    <tr>\n      <th>3</th>\n      <td>26190</td>\n      <td>1.54</td>\n    </tr>\n    <tr>\n      <th>4</th>\n      <td>26355</td>\n      <td>0.99</td>\n    </tr>\n  </tbody>\n</table>\n</div>"
     },
     "metadata": {},
     "execution_count": 45
    }
   ],
   "source": [
    "# Средняя цена\n",
    "price = new_item_features.groupby('item_id')['sales_value'].sum() / new_item_features.groupby('item_id')['quantity'].sum()\n",
    "price = price.groupby('item_id').mean().reset_index()\n",
    "price.columns = ['item_id', 'avg_price']\n",
    "price['avg_price'].fillna(0, inplace= True)\n",
    "price.head()"
   ]
  },
  {
   "cell_type": "code",
   "execution_count": 46,
   "metadata": {},
   "outputs": [
    {
     "output_type": "execute_result",
     "data": {
      "text/plain": [
       "   item_id  manufacturer    department     brand            commodity_desc  \\\n",
       "0    25671             2       GROCERY  National                  FRZN ICE   \n",
       "1    26081             2  MISC. TRANS.  National  NO COMMODITY DESCRIPTION   \n",
       "2    26093            69        PASTRY   Private                     BREAD   \n",
       "3    26190            69       GROCERY   Private      FRUIT - SHELF STABLE   \n",
       "4    26355            69       GROCERY   Private             COOKIES/CONES   \n",
       "\n",
       "            sub_commodity_desc curr_size_of_product  quantity_of_sales_x  \\\n",
       "0          ICE - CRUSHED/CUBED                22 LB                    3   \n",
       "1  NO SUBCOMMODITY DESCRIPTION                                         1   \n",
       "2         BREAD:ITALIAN/FRENCH                                         1   \n",
       "3                  APPLE SAUCE                50 OZ                    1   \n",
       "4            SPECIALTY COOKIES                14 OZ                    1   \n",
       "\n",
       "   weekly_quantity_of_sales_x  price_x  quantity_of_sales_y  \\\n",
       "0                    0.031579     3.49                    3   \n",
       "1                    0.010526     0.99                    1   \n",
       "2                    0.010526     1.59                    1   \n",
       "3                    0.010526     1.54                    1   \n",
       "4                    0.010526     0.99                    1   \n",
       "\n",
       "   weekly_quantity_of_sales_y  price_y  quantity_of_sales  \\\n",
       "0                    0.031579     3.49                  3   \n",
       "1                    0.010526     0.99                  1   \n",
       "2                    0.010526     1.59                  1   \n",
       "3                    0.010526     1.54                  1   \n",
       "4                    0.010526     0.99                  1   \n",
       "\n",
       "   quantity_of_sales_weekly  avg_price  \n",
       "0                  0.031579       3.49  \n",
       "1                  0.010526       0.99  \n",
       "2                  0.010526       1.59  \n",
       "3                  0.010526       1.54  \n",
       "4                  0.010526       0.99  "
      ],
      "text/html": "<div>\n<style scoped>\n    .dataframe tbody tr th:only-of-type {\n        vertical-align: middle;\n    }\n\n    .dataframe tbody tr th {\n        vertical-align: top;\n    }\n\n    .dataframe thead th {\n        text-align: right;\n    }\n</style>\n<table border=\"1\" class=\"dataframe\">\n  <thead>\n    <tr style=\"text-align: right;\">\n      <th></th>\n      <th>item_id</th>\n      <th>manufacturer</th>\n      <th>department</th>\n      <th>brand</th>\n      <th>commodity_desc</th>\n      <th>sub_commodity_desc</th>\n      <th>curr_size_of_product</th>\n      <th>quantity_of_sales_x</th>\n      <th>weekly_quantity_of_sales_x</th>\n      <th>price_x</th>\n      <th>quantity_of_sales_y</th>\n      <th>weekly_quantity_of_sales_y</th>\n      <th>price_y</th>\n      <th>quantity_of_sales</th>\n      <th>quantity_of_sales_weekly</th>\n      <th>avg_price</th>\n    </tr>\n  </thead>\n  <tbody>\n    <tr>\n      <th>0</th>\n      <td>25671</td>\n      <td>2</td>\n      <td>GROCERY</td>\n      <td>National</td>\n      <td>FRZN ICE</td>\n      <td>ICE - CRUSHED/CUBED</td>\n      <td>22 LB</td>\n      <td>3</td>\n      <td>0.031579</td>\n      <td>3.49</td>\n      <td>3</td>\n      <td>0.031579</td>\n      <td>3.49</td>\n      <td>3</td>\n      <td>0.031579</td>\n      <td>3.49</td>\n    </tr>\n    <tr>\n      <th>1</th>\n      <td>26081</td>\n      <td>2</td>\n      <td>MISC. TRANS.</td>\n      <td>National</td>\n      <td>NO COMMODITY DESCRIPTION</td>\n      <td>NO SUBCOMMODITY DESCRIPTION</td>\n      <td></td>\n      <td>1</td>\n      <td>0.010526</td>\n      <td>0.99</td>\n      <td>1</td>\n      <td>0.010526</td>\n      <td>0.99</td>\n      <td>1</td>\n      <td>0.010526</td>\n      <td>0.99</td>\n    </tr>\n    <tr>\n      <th>2</th>\n      <td>26093</td>\n      <td>69</td>\n      <td>PASTRY</td>\n      <td>Private</td>\n      <td>BREAD</td>\n      <td>BREAD:ITALIAN/FRENCH</td>\n      <td></td>\n      <td>1</td>\n      <td>0.010526</td>\n      <td>1.59</td>\n      <td>1</td>\n      <td>0.010526</td>\n      <td>1.59</td>\n      <td>1</td>\n      <td>0.010526</td>\n      <td>1.59</td>\n    </tr>\n    <tr>\n      <th>3</th>\n      <td>26190</td>\n      <td>69</td>\n      <td>GROCERY</td>\n      <td>Private</td>\n      <td>FRUIT - SHELF STABLE</td>\n      <td>APPLE SAUCE</td>\n      <td>50 OZ</td>\n      <td>1</td>\n      <td>0.010526</td>\n      <td>1.54</td>\n      <td>1</td>\n      <td>0.010526</td>\n      <td>1.54</td>\n      <td>1</td>\n      <td>0.010526</td>\n      <td>1.54</td>\n    </tr>\n    <tr>\n      <th>4</th>\n      <td>26355</td>\n      <td>69</td>\n      <td>GROCERY</td>\n      <td>Private</td>\n      <td>COOKIES/CONES</td>\n      <td>SPECIALTY COOKIES</td>\n      <td>14 OZ</td>\n      <td>1</td>\n      <td>0.010526</td>\n      <td>0.99</td>\n      <td>1</td>\n      <td>0.010526</td>\n      <td>0.99</td>\n      <td>1</td>\n      <td>0.010526</td>\n      <td>0.99</td>\n    </tr>\n  </tbody>\n</table>\n</div>"
     },
     "metadata": {},
     "execution_count": 46
    }
   ],
   "source": [
    "# Добавим среднюю цену и количество продуктов к признакам продуктов\n",
    "item_features = item_features.merge(item_quantity, on='item_id')\n",
    "item_features = item_features.merge(price, on='item_id')\n",
    "item_features = item_features[item_features['quantity_of_sales_weekly'] > 0]\n",
    "item_features.head()"
   ]
  },
  {
   "source": [
    "### Добавляем признаки пользователей"
   ],
   "cell_type": "markdown",
   "metadata": {}
  },
  {
   "cell_type": "code",
   "execution_count": 47,
   "metadata": {},
   "outputs": [
    {
     "output_type": "execute_result",
     "data": {
      "text/plain": [
       "  age_desc marital_status_code income_desc homeowner_desc      hh_comp_desc  \\\n",
       "0      65+                   A      35-49K      Homeowner  2 Adults No Kids   \n",
       "1      65+                   A      35-49K      Homeowner  2 Adults No Kids   \n",
       "2      65+                   A      35-49K      Homeowner  2 Adults No Kids   \n",
       "3      65+                   A      35-49K      Homeowner  2 Adults No Kids   \n",
       "4      65+                   A      35-49K      Homeowner  2 Adults No Kids   \n",
       "\n",
       "  household_size_desc kid_category_desc  user_id    basket_id  day  item_id  \\\n",
       "0                   2      None/Unknown        1  27601281299   51   825123   \n",
       "1                   2      None/Unknown        1  27601281299   51   831447   \n",
       "2                   2      None/Unknown        1  27601281299   51   840361   \n",
       "3                   2      None/Unknown        1  27601281299   51   845307   \n",
       "4                   2      None/Unknown        1  27601281299   51   852014   \n",
       "\n",
       "   quantity  sales_value  store_id  retail_disc  trans_time  week_no  \\\n",
       "0         1         3.99       436         0.00        1456        8   \n",
       "1         1         2.99       436         0.00        1456        8   \n",
       "2         1         1.09       436        -0.30        1456        8   \n",
       "3         1         3.71       436        -0.62        1456        8   \n",
       "4         1         2.79       436        -1.20        1456        8   \n",
       "\n",
       "   coupon_disc  coupon_match_disc  \n",
       "0          0.0                0.0  \n",
       "1          0.0                0.0  \n",
       "2          0.0                0.0  \n",
       "3          0.0                0.0  \n",
       "4          0.0                0.0  "
      ],
      "text/html": "<div>\n<style scoped>\n    .dataframe tbody tr th:only-of-type {\n        vertical-align: middle;\n    }\n\n    .dataframe tbody tr th {\n        vertical-align: top;\n    }\n\n    .dataframe thead th {\n        text-align: right;\n    }\n</style>\n<table border=\"1\" class=\"dataframe\">\n  <thead>\n    <tr style=\"text-align: right;\">\n      <th></th>\n      <th>age_desc</th>\n      <th>marital_status_code</th>\n      <th>income_desc</th>\n      <th>homeowner_desc</th>\n      <th>hh_comp_desc</th>\n      <th>household_size_desc</th>\n      <th>kid_category_desc</th>\n      <th>user_id</th>\n      <th>basket_id</th>\n      <th>day</th>\n      <th>item_id</th>\n      <th>quantity</th>\n      <th>sales_value</th>\n      <th>store_id</th>\n      <th>retail_disc</th>\n      <th>trans_time</th>\n      <th>week_no</th>\n      <th>coupon_disc</th>\n      <th>coupon_match_disc</th>\n    </tr>\n  </thead>\n  <tbody>\n    <tr>\n      <th>0</th>\n      <td>65+</td>\n      <td>A</td>\n      <td>35-49K</td>\n      <td>Homeowner</td>\n      <td>2 Adults No Kids</td>\n      <td>2</td>\n      <td>None/Unknown</td>\n      <td>1</td>\n      <td>27601281299</td>\n      <td>51</td>\n      <td>825123</td>\n      <td>1</td>\n      <td>3.99</td>\n      <td>436</td>\n      <td>0.00</td>\n      <td>1456</td>\n      <td>8</td>\n      <td>0.0</td>\n      <td>0.0</td>\n    </tr>\n    <tr>\n      <th>1</th>\n      <td>65+</td>\n      <td>A</td>\n      <td>35-49K</td>\n      <td>Homeowner</td>\n      <td>2 Adults No Kids</td>\n      <td>2</td>\n      <td>None/Unknown</td>\n      <td>1</td>\n      <td>27601281299</td>\n      <td>51</td>\n      <td>831447</td>\n      <td>1</td>\n      <td>2.99</td>\n      <td>436</td>\n      <td>0.00</td>\n      <td>1456</td>\n      <td>8</td>\n      <td>0.0</td>\n      <td>0.0</td>\n    </tr>\n    <tr>\n      <th>2</th>\n      <td>65+</td>\n      <td>A</td>\n      <td>35-49K</td>\n      <td>Homeowner</td>\n      <td>2 Adults No Kids</td>\n      <td>2</td>\n      <td>None/Unknown</td>\n      <td>1</td>\n      <td>27601281299</td>\n      <td>51</td>\n      <td>840361</td>\n      <td>1</td>\n      <td>1.09</td>\n      <td>436</td>\n      <td>-0.30</td>\n      <td>1456</td>\n      <td>8</td>\n      <td>0.0</td>\n      <td>0.0</td>\n    </tr>\n    <tr>\n      <th>3</th>\n      <td>65+</td>\n      <td>A</td>\n      <td>35-49K</td>\n      <td>Homeowner</td>\n      <td>2 Adults No Kids</td>\n      <td>2</td>\n      <td>None/Unknown</td>\n      <td>1</td>\n      <td>27601281299</td>\n      <td>51</td>\n      <td>845307</td>\n      <td>1</td>\n      <td>3.71</td>\n      <td>436</td>\n      <td>-0.62</td>\n      <td>1456</td>\n      <td>8</td>\n      <td>0.0</td>\n      <td>0.0</td>\n    </tr>\n    <tr>\n      <th>4</th>\n      <td>65+</td>\n      <td>A</td>\n      <td>35-49K</td>\n      <td>Homeowner</td>\n      <td>2 Adults No Kids</td>\n      <td>2</td>\n      <td>None/Unknown</td>\n      <td>1</td>\n      <td>27601281299</td>\n      <td>51</td>\n      <td>852014</td>\n      <td>1</td>\n      <td>2.79</td>\n      <td>436</td>\n      <td>-1.20</td>\n      <td>1456</td>\n      <td>8</td>\n      <td>0.0</td>\n      <td>0.0</td>\n    </tr>\n  </tbody>\n</table>\n</div>"
     },
     "metadata": {},
     "execution_count": 47
    }
   ],
   "source": [
    "new_user_features = user_features.merge(data, on='user_id', how='left')\n",
    "new_user_features.head()"
   ]
  },
  {
   "cell_type": "code",
   "execution_count": 50,
   "metadata": {},
   "outputs": [
    {
     "output_type": "execute_result",
     "data": {
      "text/plain": [
       "0    35\n",
       "1    35\n",
       "2    35\n",
       "3    35\n",
       "4    35\n",
       "Name: income_desc, dtype: object"
      ]
     },
     "metadata": {},
     "execution_count": 50
    }
   ],
   "source": [
    "new_user_features['income_desc'] = new_user_features['income_desc'].fillna('0')\n",
    "new_user_features['income_desc'] = new_user_features['income_desc'].apply(lambda in_desc: in_desc.split(sep=\"-\")[0])\n",
    "new_user_features['income_desc'].head()"
   ]
  },
  {
   "cell_type": "code",
   "execution_count": 52,
   "metadata": {},
   "outputs": [],
   "source": [
    "# Добавим среднюю корзину\n",
    "basket = new_user_features.groupby(['user_id'])['sales_value'].sum().reset_index()\n",
    "basket_quantity = new_user_features.groupby('user_id')['basket_id'].count().reset_index()\n",
    "basket_quantity.rename(columns={'basket_id': 'basket_quantity'}, inplace=True)\n",
    "avg_basket = basket.merge(basket_quantity)\n",
    "avg_basket['avg_basket'] = avg_basket.sales_value / avg_basket.basket_quantity\n",
    "avg_basket['weekly_sum'] = avg_basket.sales_value / new_user_features.week_no.nunique()\n",
    "avg_basket = avg_basket.drop(['sales_value', 'basket_quantity'], axis=1)\n",
    "\n",
    "user_features = user_features.merge(avg_basket)"
   ]
  },
  {
   "cell_type": "code",
   "execution_count": 54,
   "metadata": {},
   "outputs": [],
   "source": [
    "def preprocessing(data, data_match):\n",
    "    users_rank = pd.DataFrame(data['user_id'].unique())\n",
    "    users_rank.columns = ['user_id']\n",
    "    train_users = data_match['user_id'].unique()\n",
    "    users_rank = users_rank[users_rank['user_id'].isin(train_users)]\n",
    "    users_rank_ = users_rank.copy()\n",
    "    users_rank['candidates'] = users_rank['user_id'].apply(lambda x: recommender.get_own_recommendations(x, N=50))\n",
    "    s = users_rank.apply(lambda x: pd.Series(x['candidates']), axis=1).stack().reset_index(level=1, drop=True)\n",
    "    s.name = 'item_id'\n",
    "    users_rank = users_rank.drop('candidates', axis=1).join(s)\n",
    "    users_rank['flag'] = 1\n",
    "    targets_rank = data[['user_id', 'item_id']].copy()\n",
    "    targets_rank.head(2)\n",
    "    targets_rank['target'] = 1  \n",
    "    targets_rank = users_rank.merge(targets_rank, on=['user_id', 'item_id'], how='left')\n",
    "    targets_rank['target'].fillna(0, inplace= True)\n",
    "    targets_rank.drop('flag', axis=1, inplace=True)\n",
    "    targets_rank = targets_rank.merge(item_features, on='item_id', how='left')\n",
    "    targets_rank = targets_rank.merge(user_features, on='user_id', how='left')\n",
    "    X = targets_rank.drop('target', axis=1)\n",
    "    y = targets_rank[['target']]\n",
    "    \n",
    "    return X, y"
   ]
  },
  {
   "cell_type": "code",
   "execution_count": 55,
   "metadata": {},
   "outputs": [],
   "source": [
    "X_train, y_train = preprocessing(data_train_ranker, data_train_matcher)\n",
    "X_test, y_test = preprocessing(data_val_ranker, data_val_matcher)"
   ]
  },
  {
   "cell_type": "code",
   "execution_count": 56,
   "metadata": {},
   "outputs": [
    {
     "output_type": "execute_result",
     "data": {
      "text/plain": [
       "['manufacturer',\n",
       " 'department',\n",
       " 'brand',\n",
       " 'commodity_desc',\n",
       " 'sub_commodity_desc',\n",
       " 'curr_size_of_product',\n",
       " 'quantity_of_sales_x',\n",
       " 'weekly_quantity_of_sales_x',\n",
       " 'price_x',\n",
       " 'quantity_of_sales_y',\n",
       " 'weekly_quantity_of_sales_y',\n",
       " 'price_y',\n",
       " 'quantity_of_sales',\n",
       " 'quantity_of_sales_weekly',\n",
       " 'avg_price',\n",
       " 'age_desc',\n",
       " 'marital_status_code',\n",
       " 'income_desc',\n",
       " 'homeowner_desc',\n",
       " 'hh_comp_desc',\n",
       " 'household_size_desc',\n",
       " 'kid_category_desc',\n",
       " 'avg_basket',\n",
       " 'weekly_sum']"
      ]
     },
     "metadata": {},
     "execution_count": 56
    }
   ],
   "source": [
    "cat_feats = X_train.columns[2:].tolist()\n",
    "cat_feats"
   ]
  },
  {
   "cell_type": "code",
   "execution_count": 57,
   "metadata": {},
   "outputs": [],
   "source": [
    "X_train[cat_feats] = X_train[cat_feats].astype('category')\n",
    "X_test[cat_feats] = X_test[cat_feats].astype('category')"
   ]
  },
  {
   "cell_type": "code",
   "execution_count": 59,
   "metadata": {},
   "outputs": [
    {
     "output_type": "stream",
     "name": "stderr",
     "text": [
      "/home/alex/miniconda3/envs/py36/lib/python3.6/site-packages/sklearn/utils/validation.py:63: DataConversionWarning: A column-vector y was passed when a 1d array was expected. Please change the shape of y to (n_samples, ), for example using ravel().\n",
      "  return f(*args, **kwargs)\n",
      "/home/alex/miniconda3/envs/py36/lib/python3.6/site-packages/lightgbm/basic.py:1098: UserWarning: categorical_column in param dict is overridden.\n",
      "  warnings.warn('{} in param dict is overridden.'.format(cat_alias))\n",
      "[LightGBM] [Warning] Accuracy may be bad since you didn't explicitly set num_leaves OR 2^max_depth > num_leaves. (num_leaves=31).\n"
     ]
    }
   ],
   "source": [
    "lgb = LGBMClassifier(objective='binary', max_depth=10, categorical_column=cat_feats)\n",
    "lgb.fit(X_train, y_train)\n",
    "\n",
    "test_preds_proba = lgb.predict_proba(X_test)[:, 1]"
   ]
  },
  {
   "cell_type": "code",
   "execution_count": 62,
   "metadata": {},
   "outputs": [],
   "source": [
    "def get_recomendation(X_test, test_preds_proba, data_val_ranker):\n",
    "    X_test['predict_proba'] = test_preds_proba\n",
    "    X_test.sort_values(['user_id', 'predict_proba'], ascending=False, inplace=True)\n",
    "    result = X_test.groupby('user_id').head(5)\n",
    "    recs = result.groupby('user_id')['item_id']\n",
    "    recomendations = []\n",
    "    for user, preds in recs:\n",
    "        recomendations.append({'user_id': user, 'recomendations': preds.tolist()})\n",
    "    recomendations = pd.DataFrame(recomendations)\n",
    "    result_rank = data_val_ranker.groupby('user_id')['item_id'].unique().reset_index()\n",
    "    result_rank.columns=['user_id', 'actual']\n",
    "    result_rank = result_rank.merge(recomendations)\n",
    "    \n",
    "    return result_rank"
   ]
  },
  {
   "cell_type": "code",
   "execution_count": 63,
   "metadata": {},
   "outputs": [],
   "source": [
    "result_rank = get_recomendation(X_test, test_preds_proba, data_val_ranker)"
   ]
  },
  {
   "cell_type": "code",
   "execution_count": 64,
   "metadata": {},
   "outputs": [
    {
     "output_type": "execute_result",
     "data": {
      "text/plain": [
       "0.07049608355091384"
      ]
     },
     "metadata": {},
     "execution_count": 64
    }
   ],
   "source": [
    "result_rank.apply(lambda row: precision_at_k(row['recomendations'], row['actual']), axis=1).mean()"
   ]
  },
  {
   "source": [
    "precision@5 при использовании двухуровневой модели вырос"
   ],
   "cell_type": "markdown",
   "metadata": {}
  }
 ]
}